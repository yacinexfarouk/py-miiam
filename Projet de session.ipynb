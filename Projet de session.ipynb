{
 "cells": [
  {
   "cell_type": "markdown",
   "metadata": {},
   "source": [
    "# ------------------------------------------------------------------------------------------------------------------------------------------PyMiiam - Que vais-je manger ce soir ?-------------------------------------------------------------------------------------------------------------------------------------------------"
   ]
  },
  {
   "cell_type": "markdown",
   "metadata": {},
   "source": [
    "PyMiiam est une application qui permet à un utilisateur de trouver des restaurants en fournissant sa localisation et le type de repas qu'il cherche"
   ]
  },
  {
   "cell_type": "markdown",
   "metadata": {},
   "source": [
    "Développeurs: \n",
    "- Abdoul Yacine Oumarou Faroukou\n",
    "- Maman Mouzamil Mahaman\n",
    "- Jonathan Ray"
   ]
  },
  {
   "cell_type": "markdown",
   "metadata": {},
   "source": [
    "## Installation de librairies et modules"
   ]
  },
  {
   "cell_type": "markdown",
   "metadata": {},
   "source": [
    "Certains des modules dont nous aurons besoin ne sont pas installés de base avec Anaconda. Il est dès lors important de s'assurer de rouler cette cellule pour que tout le programme fonctionne correctement."
   ]
  },
  {
   "cell_type": "code",
   "execution_count": 1,
   "metadata": {
    "scrolled": false
   },
   "outputs": [
    {
     "name": "stdout",
     "output_type": "stream",
     "text": [
      "Requirement already satisfied: ipyleaflet in c:\\users\\yacine\\anaconda3\\lib\\site-packages (0.12.3)\n",
      "Requirement already satisfied: traittypes<3,>=0.2.1 in c:\\users\\yacine\\anaconda3\\lib\\site-packages (from ipyleaflet) (0.2.1)\n",
      "Requirement already satisfied: ipywidgets<8,>=7.5.0 in c:\\users\\yacine\\anaconda3\\lib\\site-packages (from ipyleaflet) (7.5.1)\n",
      "Requirement already satisfied: xarray>=0.10 in c:\\users\\yacine\\anaconda3\\lib\\site-packages (from ipyleaflet) (0.15.1)\n",
      "Requirement already satisfied: branca<0.4,>=0.3.1 in c:\\users\\yacine\\anaconda3\\lib\\site-packages (from ipyleaflet) (0.3.1)\n",
      "Requirement already satisfied: traitlets>=4.2.2 in c:\\users\\yacine\\anaconda3\\lib\\site-packages (from traittypes<3,>=0.2.1->ipyleaflet) (4.3.3)\n",
      "Requirement already satisfied: widgetsnbextension~=3.5.0 in c:\\users\\yacine\\anaconda3\\lib\\site-packages (from ipywidgets<8,>=7.5.0->ipyleaflet) (3.5.1)\n",
      "Requirement already satisfied: ipykernel>=4.5.1 in c:\\users\\yacine\\anaconda3\\lib\\site-packages (from ipywidgets<8,>=7.5.0->ipyleaflet) (5.1.3)\n",
      "Requirement already satisfied: ipython>=4.0.0; python_version >= \"3.3\" in c:\\users\\yacine\\anaconda3\\lib\\site-packages (from ipywidgets<8,>=7.5.0->ipyleaflet) (7.10.1)\n",
      "Requirement already satisfied: nbformat>=4.2.0 in c:\\users\\yacine\\anaconda3\\lib\\site-packages (from ipywidgets<8,>=7.5.0->ipyleaflet) (4.4.0)\n",
      "Requirement already satisfied: setuptools>=41.2 in c:\\users\\yacine\\anaconda3\\lib\\site-packages (from xarray>=0.10->ipyleaflet) (42.0.2.post20191203)\n",
      "Requirement already satisfied: pandas>=0.25 in c:\\users\\yacine\\anaconda3\\lib\\site-packages (from xarray>=0.10->ipyleaflet) (0.25.3)\n",
      "Requirement already satisfied: numpy>=1.15 in c:\\users\\yacine\\anaconda3\\lib\\site-packages (from xarray>=0.10->ipyleaflet) (1.17.4)\n",
      "Requirement already satisfied: six in c:\\users\\yacine\\anaconda3\\lib\\site-packages (from branca<0.4,>=0.3.1->ipyleaflet) (1.13.0)\n",
      "Requirement already satisfied: jinja2 in c:\\users\\yacine\\anaconda3\\lib\\site-packages (from branca<0.4,>=0.3.1->ipyleaflet) (2.10.3)\n",
      "Requirement already satisfied: ipython-genutils in c:\\users\\yacine\\anaconda3\\lib\\site-packages (from traitlets>=4.2.2->traittypes<3,>=0.2.1->ipyleaflet) (0.2.0)\n",
      "Requirement already satisfied: decorator in c:\\users\\yacine\\anaconda3\\lib\\site-packages (from traitlets>=4.2.2->traittypes<3,>=0.2.1->ipyleaflet) (4.4.1)\n",
      "Requirement already satisfied: notebook>=4.4.1 in c:\\users\\yacine\\anaconda3\\lib\\site-packages (from widgetsnbextension~=3.5.0->ipywidgets<8,>=7.5.0->ipyleaflet) (6.0.2)\n",
      "Requirement already satisfied: jupyter-client in c:\\users\\yacine\\anaconda3\\lib\\site-packages (from ipykernel>=4.5.1->ipywidgets<8,>=7.5.0->ipyleaflet) (5.3.4)\n",
      "Requirement already satisfied: tornado>=4.2 in c:\\users\\yacine\\anaconda3\\lib\\site-packages (from ipykernel>=4.5.1->ipywidgets<8,>=7.5.0->ipyleaflet) (6.0.3)\n",
      "Requirement already satisfied: pygments in c:\\users\\yacine\\anaconda3\\lib\\site-packages (from ipython>=4.0.0; python_version >= \"3.3\"->ipywidgets<8,>=7.5.0->ipyleaflet) (2.5.2)\n",
      "Requirement already satisfied: colorama; sys_platform == \"win32\" in c:\\users\\yacine\\anaconda3\\lib\\site-packages (from ipython>=4.0.0; python_version >= \"3.3\"->ipywidgets<8,>=7.5.0->ipyleaflet) (0.4.1)\n",
      "Requirement already satisfied: pickleshare in c:\\users\\yacine\\anaconda3\\lib\\site-packages (from ipython>=4.0.0; python_version >= \"3.3\"->ipywidgets<8,>=7.5.0->ipyleaflet) (0.7.5)\n",
      "Requirement already satisfied: jedi>=0.10 in c:\\users\\yacine\\anaconda3\\lib\\site-packages (from ipython>=4.0.0; python_version >= \"3.3\"->ipywidgets<8,>=7.5.0->ipyleaflet) (0.15.1)\n",
      "Requirement already satisfied: backcall in c:\\users\\yacine\\anaconda3\\lib\\site-packages (from ipython>=4.0.0; python_version >= \"3.3\"->ipywidgets<8,>=7.5.0->ipyleaflet) (0.1.0)\n",
      "Requirement already satisfied: prompt-toolkit!=3.0.0,!=3.0.1,<3.1.0,>=2.0.0 in c:\\users\\yacine\\anaconda3\\lib\\site-packages (from ipython>=4.0.0; python_version >= \"3.3\"->ipywidgets<8,>=7.5.0->ipyleaflet) (3.0.2)\n",
      "Requirement already satisfied: jsonschema!=2.5.0,>=2.4 in c:\\users\\yacine\\anaconda3\\lib\\site-packages (from nbformat>=4.2.0->ipywidgets<8,>=7.5.0->ipyleaflet) (3.2.0)\n",
      "Requirement already satisfied: jupyter-core in c:\\users\\yacine\\anaconda3\\lib\\site-packages (from nbformat>=4.2.0->ipywidgets<8,>=7.5.0->ipyleaflet) (4.6.1)\n",
      "Requirement already satisfied: python-dateutil>=2.6.1 in c:\\users\\yacine\\anaconda3\\lib\\site-packages (from pandas>=0.25->xarray>=0.10->ipyleaflet) (2.8.1)\n",
      "Requirement already satisfied: pytz>=2017.2 in c:\\users\\yacine\\anaconda3\\lib\\site-packages (from pandas>=0.25->xarray>=0.10->ipyleaflet) (2019.3)\n",
      "Requirement already satisfied: MarkupSafe>=0.23 in c:\\users\\yacine\\anaconda3\\lib\\site-packages (from jinja2->branca<0.4,>=0.3.1->ipyleaflet) (1.1.1)\n",
      "Requirement already satisfied: prometheus-client in c:\\users\\yacine\\anaconda3\\lib\\site-packages (from notebook>=4.4.1->widgetsnbextension~=3.5.0->ipywidgets<8,>=7.5.0->ipyleaflet) (0.7.1)\n",
      "Requirement already satisfied: nbconvert in c:\\users\\yacine\\anaconda3\\lib\\site-packages (from notebook>=4.4.1->widgetsnbextension~=3.5.0->ipywidgets<8,>=7.5.0->ipyleaflet) (5.6.1)\n",
      "Requirement already satisfied: pyzmq>=17 in c:\\users\\yacine\\anaconda3\\lib\\site-packages (from notebook>=4.4.1->widgetsnbextension~=3.5.0->ipywidgets<8,>=7.5.0->ipyleaflet) (18.1.0)\n",
      "Requirement already satisfied: terminado>=0.8.1 in c:\\users\\yacine\\anaconda3\\lib\\site-packages (from notebook>=4.4.1->widgetsnbextension~=3.5.0->ipywidgets<8,>=7.5.0->ipyleaflet) (0.8.3)\n",
      "Requirement already satisfied: Send2Trash in c:\\users\\yacine\\anaconda3\\lib\\site-packages (from notebook>=4.4.1->widgetsnbextension~=3.5.0->ipywidgets<8,>=7.5.0->ipyleaflet) (1.5.0)\n",
      "Requirement already satisfied: pywin32>=1.0; sys_platform == \"win32\" in c:\\users\\yacine\\anaconda3\\lib\\site-packages (from jupyter-client->ipykernel>=4.5.1->ipywidgets<8,>=7.5.0->ipyleaflet) (223)\n",
      "Requirement already satisfied: parso>=0.5.0 in c:\\users\\yacine\\anaconda3\\lib\\site-packages (from jedi>=0.10->ipython>=4.0.0; python_version >= \"3.3\"->ipywidgets<8,>=7.5.0->ipyleaflet) (0.5.1)\n",
      "Requirement already satisfied: wcwidth in c:\\users\\yacine\\anaconda3\\lib\\site-packages (from prompt-toolkit!=3.0.0,!=3.0.1,<3.1.0,>=2.0.0->ipython>=4.0.0; python_version >= \"3.3\"->ipywidgets<8,>=7.5.0->ipyleaflet) (0.1.7)\n",
      "Requirement already satisfied: attrs>=17.4.0 in c:\\users\\yacine\\anaconda3\\lib\\site-packages (from jsonschema!=2.5.0,>=2.4->nbformat>=4.2.0->ipywidgets<8,>=7.5.0->ipyleaflet) (19.3.0)\n",
      "Requirement already satisfied: importlib-metadata; python_version < \"3.8\" in c:\\users\\yacine\\anaconda3\\lib\\site-packages (from jsonschema!=2.5.0,>=2.4->nbformat>=4.2.0->ipywidgets<8,>=7.5.0->ipyleaflet) (1.1.0)\n",
      "Requirement already satisfied: pyrsistent>=0.14.0 in c:\\users\\yacine\\anaconda3\\lib\\site-packages (from jsonschema!=2.5.0,>=2.4->nbformat>=4.2.0->ipywidgets<8,>=7.5.0->ipyleaflet) (0.15.6)\n",
      "Requirement already satisfied: entrypoints>=0.2.2 in c:\\users\\yacine\\anaconda3\\lib\\site-packages (from nbconvert->notebook>=4.4.1->widgetsnbextension~=3.5.0->ipywidgets<8,>=7.5.0->ipyleaflet) (0.3)\n",
      "Requirement already satisfied: defusedxml in c:\\users\\yacine\\anaconda3\\lib\\site-packages (from nbconvert->notebook>=4.4.1->widgetsnbextension~=3.5.0->ipywidgets<8,>=7.5.0->ipyleaflet) (0.6.0)\n",
      "Requirement already satisfied: testpath in c:\\users\\yacine\\anaconda3\\lib\\site-packages (from nbconvert->notebook>=4.4.1->widgetsnbextension~=3.5.0->ipywidgets<8,>=7.5.0->ipyleaflet) (0.4.4)\n",
      "Requirement already satisfied: bleach in c:\\users\\yacine\\anaconda3\\lib\\site-packages (from nbconvert->notebook>=4.4.1->widgetsnbextension~=3.5.0->ipywidgets<8,>=7.5.0->ipyleaflet) (3.1.0)\n",
      "Requirement already satisfied: mistune<2,>=0.8.1 in c:\\users\\yacine\\anaconda3\\lib\\site-packages (from nbconvert->notebook>=4.4.1->widgetsnbextension~=3.5.0->ipywidgets<8,>=7.5.0->ipyleaflet) (0.8.4)\n",
      "Requirement already satisfied: pandocfilters>=1.4.1 in c:\\users\\yacine\\anaconda3\\lib\\site-packages (from nbconvert->notebook>=4.4.1->widgetsnbextension~=3.5.0->ipywidgets<8,>=7.5.0->ipyleaflet) (1.4.2)\n",
      "Requirement already satisfied: zipp>=0.5 in c:\\users\\yacine\\anaconda3\\lib\\site-packages (from importlib-metadata; python_version < \"3.8\"->jsonschema!=2.5.0,>=2.4->nbformat>=4.2.0->ipywidgets<8,>=7.5.0->ipyleaflet) (0.6.0)\n",
      "Requirement already satisfied: webencodings in c:\\users\\yacine\\anaconda3\\lib\\site-packages (from bleach->nbconvert->notebook>=4.4.1->widgetsnbextension~=3.5.0->ipywidgets<8,>=7.5.0->ipyleaflet) (0.5.1)\n",
      "Requirement already satisfied: more-itertools in c:\\users\\yacine\\anaconda3\\lib\\site-packages (from zipp>=0.5->importlib-metadata; python_version < \"3.8\"->jsonschema!=2.5.0,>=2.4->nbformat>=4.2.0->ipywidgets<8,>=7.5.0->ipyleaflet) (7.2.0)\n"
     ]
    },
    {
     "name": "stderr",
     "output_type": "stream",
     "text": [
      "Enabling notebook extension jupyter-js-widgets/extension...\n",
      "      - Validating: ok\n",
      "Enabling notebook extension jupyter-leaflet/extension...\n",
      "      - Validating: ok\n"
     ]
    }
   ],
   "source": [
    "#Ce module nous permettra de faire des graphiques de type cartes et d'y ajouter des points\n",
    "!pip install ipyleaflet\n",
    "\n",
    "#À cette étape on ajoute le module installé précedemment dans les registres de Jupyter Notebook,\n",
    "#Sinon le programme n'affichera pas les cartes. Il est important que ces cellules roulent sans erreurs\n",
    "#pour pouvoir un affichage de la carte\n",
    "!jupyter nbextension enable --py widgetsnbextension --sys-prefix\n",
    "!jupyter nbextension enable --py --sys-prefix ipyleaflet"
   ]
  },
  {
   "cell_type": "markdown",
   "metadata": {},
   "source": [
    "## Importation de toutes les librairies et modules dont nous aurons besoin"
   ]
  },
  {
   "cell_type": "code",
   "execution_count": 1,
   "metadata": {},
   "outputs": [],
   "source": [
    "import requests #Module permettant d'envoyer des requêtes serveur\n",
    "import json #Module permettant de lire des fichiers au format json\n",
    "import pandas as pd\n",
    "from ipyleaflet import Map, basemaps, Marker #Module permettant de faire des cartes interactives\n",
    "# Le module email nous permettra de gérer et d'envoyer des courriels\n",
    "from email.mime.text import MIMEText\n",
    "from email.mime.application import MIMEApplication\n",
    "from email.mime.multipart import MIMEMultipart\n",
    "# le module smtplib permettra de créer des sessions par lesquelles nous enverrons nos emails\n",
    "from smtplib import SMTP\n",
    "import smtplib as smtplib\n",
    "import datetime \n",
    "import time"
   ]
  },
  {
   "cell_type": "markdown",
   "metadata": {},
   "source": [
    "## Création de la variable dont nous aurons besoin pour l'ensemble du programme"
   ]
  },
  {
   "cell_type": "code",
   "execution_count": 2,
   "metadata": {},
   "outputs": [],
   "source": [
    "#On intialise ici un objet dataframe qui contiendra l'essentiel de l'information\n",
    "#concernant les restaurants\n",
    "restaurants = pd.DataFrame()    "
   ]
  },
  {
   "cell_type": "markdown",
   "metadata": {},
   "source": [
    "## Création des fonctions que le programme va utiliser pour fonctionner"
   ]
  },
  {
   "cell_type": "markdown",
   "metadata": {},
   "source": [
    "- Fonction pour rechercher les restaurants"
   ]
  },
  {
   "cell_type": "code",
   "execution_count": 3,
   "metadata": {},
   "outputs": [],
   "source": [
    "# Notre fonction prendra deux arguments : le lieu de la recherche ainsi que le mot clé\n",
    "# associé à la recherche\n",
    "def business_finder(location, keyword):\n",
    "    \n",
    "    # On initialise d'abord la variable url, qui est le lien vers lequel on fera les recherches\n",
    "    # agit comme un moteur de recherche Google par exemple\n",
    "    url = \"https://api.yelp.com/v3/businesses/search\"\n",
    "    \n",
    "    # Premièrement, on ouvre le fichier qui continer notre API key et\n",
    "    # on enregistre cette clé dans la variable key. L'API key est indispensable\n",
    "    # pour que le serveur puisse nous reconnaître\n",
    "    with open('api_key.txt') as file:\n",
    "        key = file.read() #on lit le fichier ici\n",
    "        file.close() #ensuite on ferme le fichier pour sauver de la mémoire\n",
    "\n",
    "    # on défini les paramètres d'autorisation afin que Yelp puisse nous identifier\n",
    "    # et qu'on puisse recevoir des données. Cette étape est indispensable aussi\n",
    "    # car elle permet à la plateforme de nous identifier grâce à l'api key\n",
    "    headers = {\n",
    "      \"Authorization\": \"Bearer \" + key\n",
    "    }\n",
    "    \n",
    "    # Dans cette section, on entre tous les paramètres dont le client veux effectuer\n",
    "    # sa recherche à savoir ou il se trouve et le mot clé de la recherche. À noter\n",
    "    # que keyword et location sont des arguments de la fonction. Nous avons aussi un \n",
    "    # élément categories qu'on a fixé à restaurants car on veux chercher uniquement les\n",
    "    # restaurants\n",
    "    params = {\n",
    "        \"term\": keyword,\n",
    "        \"location\": location,\n",
    "        \"categories\": \"restaurants\"\n",
    "    }\n",
    "    \n",
    "    # On envoie une requête à l'API avec nos paramètres grâce à request et on enregistre\n",
    "    # le résultat dans un variable response. Cette variable est en réalisté un fichier json\n",
    "    # et donc pour faciliter sa lecture on le préfixe avec la méthode json() en prenant soint\n",
    "    # de juste garder 'businesses' qui représente tous les résultats de la recherche. Ces résultats\n",
    "    # sont enregistrés dans une nouvelle variable businesses\n",
    "    response = requests.get(url, headers= headers, params= params)\n",
    "    businesses = response.json()['businesses']\n",
    "\n",
    "    # On initialise ici des listes vides qui vont venir accueillir les attributs dont aura besoin\n",
    "    # pour remplir notre dataframe\n",
    "    name = []\n",
    "    coordinates = []\n",
    "    latitude = []\n",
    "    longitude = []\n",
    "    phone = []\n",
    "    location = []\n",
    "    \n",
    "    # Grâce à une boucle on va parcourir la variable businesses qui est en réalité un dictionnaire\n",
    "    for business in businesses:\n",
    "        name.append(business['name']) # on ajoute le nom à name\n",
    "        coordinates.append(business['coordinates']) # on ajoute les coordonées à coordinates\n",
    "        phone.append(business['phone']) # on ajoute le téléphone à phone\n",
    "        location.append(business['location']['address1'] + \", \" + business['location']['city'] \n",
    "                        + \", \" + business['location']['state'] + \", \" + business['location']['zip_code'])\n",
    "                        # on ajoute l'adresse en concaténant plusieurs valeurs à location\n",
    "        \n",
    "    # la liste coordinate contient en réalité des dictionnaires, on va créer une boucle pour en \n",
    "    # extraire les valeurs\n",
    "    for i in range(len(coordinates)):\n",
    "        latitude.append(coordinates[i]['latitude']) # on ajoute la latitude à latitude\n",
    "        longitude.append(coordinates[i]['longitude'])# on ajoute la longitude à longitude\n",
    "    \n",
    "    # Finalement, on rempli notre dataframe restaurants avec toutes les données contenues dans les listes\n",
    "    restaurants['Nom'] = name\n",
    "    restaurants['Phone Number'] = phone\n",
    "    restaurants['Adresse'] = location\n",
    "    restaurants['Latitude'] = latitude\n",
    "    restaurants['Longitude'] = longitude\n",
    "    \n",
    "    # Et pour finir, on demande à la fonction de nous retourner les 5 premiers résultats (Nom du restaurant ainsi\n",
    "    # que son numéro de téléphone)\n",
    "    return restaurants[['Nom', 'Phone Number']].head()\n",
    "    "
   ]
  },
  {
   "cell_type": "markdown",
   "metadata": {},
   "source": [
    "- Fonction pour faire la carte et y afficher les restaurants"
   ]
  },
  {
   "cell_type": "code",
   "execution_count": 4,
   "metadata": {},
   "outputs": [],
   "source": [
    "# Notre fonction pour créer la carte prendre uniquement le dataframe restaurants comme arguments\n",
    "def map_plot(dataframe):\n",
    "    \n",
    "    # D'abord on s'assure de retenir les 5 premiers résultats\n",
    "    dataframe = dataframe.head()\n",
    "    \n",
    "    # Ici on créer tout d'abord la carte dont le centre sera la moyenne des latitudes et des longitudes\n",
    "    # de nos restaurants, on place également le zoom à 12 pour avoir tous les détails\n",
    "    montreal = Map(center= (dataframe['Latitude'].mean(), dataframe['Longitude'].mean()), zoom= 12)\n",
    "    \n",
    "    # On va ensuite créer les marqueurs des restaurants grâce à leur coordonnées. Le titre de chaque \n",
    "    # marqueur sera en réalité le nom du restaurant suivi de son adresse postale\n",
    "    for (index, row) in dataframe.iterrows():\n",
    "        marker = Marker(location = [row.loc['Latitude'], row.loc['Longitude']], title= row.loc['Nom'] + \", \" +\n",
    "                        row.loc['Adresse'])\n",
    "        # On ajoute ici chaque marqueur à la carte\n",
    "        montreal.add_layer(marker)\n",
    "    \n",
    "    # Finalement on demande à la fonction de nous retrouner la carte finale\n",
    "    return montreal"
   ]
  },
  {
   "cell_type": "markdown",
   "metadata": {},
   "source": [
    "- Fonction pour envoyer un email à l'utilisateur"
   ]
  },
  {
   "cell_type": "code",
   "execution_count": 5,
   "metadata": {},
   "outputs": [],
   "source": [
    "# Cette fonction prend deux arguments, l'adresse mail sur laquelle on va envoyer le message\n",
    "# ainsi que notre dataframe restaurants\n",
    "def send_email(email, dataframe):\n",
    "    \n",
    "    # D'abord on s'assure de retenir les 5 premiers résultats\n",
    "    dataframe = dataframe[['Nom', 'Phone Number', 'Adresse']].head()\n",
    "    \n",
    "    # On créer une instance de la classe MIMEMultipart qui sera le corps de notre message\n",
    "    # cette classe comprend plusieurs attributs\n",
    "    message = MIMEMultipart()\n",
    "    \n",
    "    # On défini de qui vient le message d'abord\n",
    "    message['from'] = 'PyMiiam'\n",
    "    \n",
    "    # Ensuite à qui l'on veux envoyer le message (1er argument de la fonction)\n",
    "    message['to'] = email\n",
    "    \n",
    "    # Enusite le titre du message\n",
    "    message['subject'] = 'Your search result on {0}'.format(datetime.date.today())\n",
    "    \n",
    "    # Finalement le contenu du message qui sera en fait du code HTML auquel on a\n",
    "    # ajouté notre dataframe\n",
    "    html = \"\"\"\\\n",
    "        <html>\n",
    "          <head></head>\n",
    "          <body>\n",
    "            {0}\n",
    "          </body>\n",
    "        </html>\n",
    "        \"\"\".format(dataframe.to_html())\n",
    "    \n",
    "    # On ajoute le contenu au message\n",
    "    message.attach(MIMEText(html, 'html'))\n",
    "    \n",
    "    # On va maintenant contacter le serveur qui va envoyer le message. On utilise le\n",
    "    # service de google\n",
    "    with smtplib.SMTP(host= 'smtp.gmail.com', port= 587) as smtp:\n",
    "        # On fait hello au serveur pour qu'il sache qu'on est là\n",
    "        smtp.ehlo()\n",
    "        # Ensuite on lui fait savoir qu'on veux envoyer un email\n",
    "        smtp.starttls()\n",
    "        # On entre nos identifiant ici. À noter que pour des raisons de sécurités,\n",
    "        # il serait préférable de garder ses informations dans un fichier séparé,\n",
    "        # mais pour alleger le programme nous l'avons intégré directement\n",
    "        smtp.login(\"py.pymiiam@gmail.com\", \"pymiiam1234\")\n",
    "        # On envoi le message\n",
    "        smtp.send_message(message)\n",
    "        # Et on affiche un message comme quoi l'email a bien été envoyé\n",
    "        print('Email envoyé à : {0}'.format(email))\n"
   ]
  },
  {
   "cell_type": "markdown",
   "metadata": {},
   "source": [
    "## L'application"
   ]
  },
  {
   "cell_type": "code",
   "execution_count": 6,
   "metadata": {
    "scrolled": false
   },
   "outputs": [
    {
     "name": "stdout",
     "output_type": "stream",
     "text": [
      "\n",
      "\n",
      "Bonjour et bienvenue dans PyMiiam ! Une application qui vous permet de trouver des restaurants prêts de chez-vous !\n",
      "\n",
      "\n",
      "Veuillez tout dabord nous indiquer dans quelle ville vous souhaitez manger. \n",
      "Par exemple : Montréal, mtl, montreal. 3742, CHEMIN STE-FOY\n",
      "Parfait !\n",
      "\n",
      "\n",
      "Veuillez nous indiquer maintenant ce que vous aimeriez manger. \n",
      "Par exemple : sushis, poulet, riz, steak. riz\n",
      "Parfait ! Nous procédons à la recherche...\n",
      "\n",
      "\n",
      "Voici les meilleurs résultats que nous avons trouvé : \n",
      "\n",
      "\n",
      "------------------------------------------------------------------------------\n",
      "           Nom  Phone Number\n",
      "0    Chez Tao!  +14182041850\n",
      "1        Calao  +14186534999\n",
      "2  Le Chavigny  +14182864959\n",
      "------------------------------------------------------------------------------\n",
      "\n",
      "\n",
      "Voulez-vous recevoir un email des résultats ? \n",
      " 1 - Oui \n",
      " 2 - Non \n",
      " Votre réponse : 2\n",
      "\n",
      "\n",
      "\n",
      "\n"
     ]
    },
    {
     "data": {
      "application/vnd.jupyter.widget-view+json": {
       "model_id": "22ae542e31734f7080f5cb002516d202",
       "version_major": 2,
       "version_minor": 0
      },
      "text/plain": [
       "Map(center=[46.7394746512706, -71.5061988189936], controls=(ZoomControl(options=['position', 'zoom_in_text', '…"
      ]
     },
     "metadata": {},
     "output_type": "display_data"
    }
   ],
   "source": [
    "# On s'assure tout d'abord de bien réinitialiser le dataframe dans le cas ou le client\n",
    "# voudrait faire plusieurs recherches\n",
    "restaurants = pd.DataFrame()  \n",
    "\n",
    "# Un peu d'espace\n",
    "print('\\n')\n",
    "\n",
    "# On salue l'utilisateur et on lui explique le principe de l'application\n",
    "print(\"Bonjour et bienvenue dans PyMiiam ! Une application qui vous permet de trouver des restaurants prêts de chez-vous !\")\n",
    "# On attend 2 secondes pour rendre le programme plus fluide\n",
    "time.sleep(2)\n",
    "# Un peu d'espace\n",
    "print('\\n')\n",
    "\n",
    "# On demande ici à l'utilisateur sa localisation et on l'enregistre dans la variable location\n",
    "location = input('Veuillez tout d''abord nous indiquer dans quelle ville vous souhaitez manger. \\n\\\n",
    "Par exemple : Montréal, mtl, montreal. ')\n",
    "print('Parfait !')\n",
    "# 1 seconde d'attente\n",
    "time.sleep(1)\n",
    "# Un peu d'espace\n",
    "print('\\n')\n",
    "\n",
    "# On demande ici à l'utilisateur ce qu'il veux manger\n",
    "keyword = input('Veuillez nous indiquer maintenant ce que vous aimeriez manger. \\n\\\n",
    "Par exemple : sushis, poulet, riz, steak. ')\n",
    "print('Parfait ! Nous procédons à la recherche...')\n",
    "# 2 secondes d'attente\n",
    "time.sleep(2)\n",
    "# Un peu d'espace\n",
    "print('\\n')\n",
    "\n",
    "#On fait recherche en appelant la fonction business_finder\n",
    "print('Voici les meilleurs résultats que nous avons trouvé : ')\n",
    "resultats = business_finder(location= location, keyword= keyword) \n",
    "print('\\n')\n",
    "\n",
    "# On affiche les résultats de la recherche\n",
    "print('------------------------------------------------------------------------------') # améliorer la lisibilité\n",
    "print(resultats)\n",
    "print('------------------------------------------------------------------------------') # améliorer la lisibilité\n",
    "\n",
    "# Un peu d'espace\n",
    "print('\\n')\n",
    "\n",
    "# On va maintenant demander à l'utilisateur s'il veux recevoir un email des résultats.\n",
    "# On va valider la réponse grâce à une boucle\n",
    "while True:\n",
    "    try:\n",
    "        # On s'attend à 1 ou 2 comme réponse\n",
    "        response = int(input('Voulez-vous recevoir un email des résultats ? \\n 1 - Oui \\n 2 - Non \\n Votre réponse : '))\n",
    "    except Exception:\n",
    "        # S'il entre un string à la place d'un int cela génère une erreur. On va alors\n",
    "        # lui signaler\n",
    "        print(\"Veuillez entrez 1 ou 2 s'il vous plaît\")\n",
    "        continue #la boucle continue de tourner\n",
    "    # Si la réponse est un int mais différent de 1 ou 2 on va lui signaler encore\n",
    "    if (response != 1 and response != 2):\n",
    "        print(\"Veuillez entrez 1 ou 2 s'il vous plaît\")\n",
    "        continue #la boucle continue\n",
    "    # Sinon la réponse est 1 ou 2. On sort de la boucle\n",
    "    else:\n",
    "        #sinon, on sort de la boucle ici (donc la valeur entrée est 1 ou 2)\n",
    "        break\n",
    "        \n",
    "\n",
    "# Un peu d'espace\n",
    "print('\\n')\n",
    "\n",
    "# On va également valider l'adresse mail grâce à une boucle. On enverra un mail seulement\n",
    "# si l'utilisateur à entrer 1 précédemment. C'est donc notre condition de départ\n",
    "if response == 1:\n",
    "    # On initialise la boucle\n",
    "    while True:\n",
    "        try:\n",
    "            # On lui demande son adresse mail et si elle est bonne \n",
    "            # on envoi l'email en appelant la fonction\n",
    "            email = input(\"Veuillez entrer votre adresse email : \")\n",
    "            send_email(email= email, dataframe= restaurants)\n",
    "            break #on sort de la boucle si sans erreur\n",
    "        # En cas d'erreur (donc adresse invalide), on lui signale et on continue la boucle\n",
    "        except Exception:\n",
    "            print(\"Veuillez entrez une adresse mail valide s'il vous plait\")\n",
    "            continue\n",
    "\n",
    "# Un peu d'espace\n",
    "print('\\n')\n",
    "\n",
    "# Finalement on appelle notre fonction map_plot pour afficher les résultats\n",
    "map_plot(restaurants)"
   ]
  }
 ],
 "metadata": {
  "kernelspec": {
   "display_name": "Python 3",
   "language": "python",
   "name": "python3"
  },
  "language_info": {
   "codemirror_mode": {
    "name": "ipython",
    "version": 3
   },
   "file_extension": ".py",
   "mimetype": "text/x-python",
   "name": "python",
   "nbconvert_exporter": "python",
   "pygments_lexer": "ipython3",
   "version": "3.7.4"
  }
 },
 "nbformat": 4,
 "nbformat_minor": 2
}
